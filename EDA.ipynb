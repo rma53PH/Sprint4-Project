{
 "cells": [
  {
   "cell_type": "code",
   "execution_count": null,
   "metadata": {},
   "outputs": [],
   "source": [
    "import pandas as pd\n",
    "import streamlit as st\n",
    "import plotly.express as px\n",
    "import altair as alt\n",
    "\n",
    "# Load the dataset\n",
    "df_us_cars = pd.read_csv('vehicles_us.csv')\n",
    "                         \n",
    "df_us_cars.head()\n",
    "\n",
    "# Display basic info about the dataset\n",
    "df_us_cars.info()\n",
    "\n",
    "# Display summary statistics of the numerical columns\n",
    "df_us_cars.describe()\n",
    "\n",
    "# Check for missing values\n",
    "df_us_cars.isnull().sum()\n",
    "\n",
    "\n",
    "\n"
   ]
  },
  {
   "cell_type": "code",
   "execution_count": null,
   "metadata": {},
   "outputs": [],
   "source": [
    "df_us_cars.head()"
   ]
  },
  {
   "cell_type": "code",
   "execution_count": null,
   "metadata": {},
   "outputs": [],
   "source": [
    "import streamlit as st\n",
    "import pandas as pd\n",
    "import plotly.express as px\n",
    "\n",
    "# Load the dataset\n",
    "df_us_cars = pd.read_csv('vehicles_us.csv')\n",
    "\n",
    "# Create a header\n",
    "st.header('Vehicle Data Analysis: US Cars')\n",
    "\n",
    "# Checkbox to toggle between coloring the scatter plot by 'condition' or 'fuel'\n",
    "color_by_condition = st.checkbox('Color scatter plot by vehicle condition')\n",
    "\n",
    "# Plotly Express histogram for vehicle prices\n",
    "st.subheader('Vehicle Price Distribution')\n",
    "hist_fig = px.histogram(df_us_cars, x='price', title='Distribution of Vehicle Prices')\n",
    "st.plotly_chart(hist_fig)\n",
    "\n",
    "# Plotly Express scatter plot for price vs odometer with conditional color\n",
    "st.subheader('Price vs Odometer')\n",
    "if color_by_condition:\n",
    "    scatter_fig = px.scatter(df_us_cars, x='odometer', y='price', color='condition', \n",
    "                             title='Price vs Odometer (colored by condition)')\n",
    "else:\n",
    "    scatter_fig = px.scatter(df_us_cars, x='odometer', y='price', color='fuel', \n",
    "                             title='Price vs Odometer (colored by fuel type)')\n",
    "\n",
    "st.plotly_chart(scatter_fig)\n"
   ]
  },
  {
   "cell_type": "code",
   "execution_count": null,
   "metadata": {},
   "outputs": [],
   "source": []
  }
 ],
 "metadata": {
  "kernelspec": {
   "display_name": "Python 3",
   "language": "python",
   "name": "python3"
  },
  "language_info": {
   "codemirror_mode": {
    "name": "ipython",
    "version": 3
   },
   "file_extension": ".py",
   "mimetype": "text/x-python",
   "name": "python",
   "nbconvert_exporter": "python",
   "pygments_lexer": "ipython3",
   "version": "3.12.6"
  }
 },
 "nbformat": 4,
 "nbformat_minor": 2
}
