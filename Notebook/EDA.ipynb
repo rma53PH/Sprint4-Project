{
 "cells": [
  {
   "cell_type": "code",
   "execution_count": 16,
   "metadata": {},
   "outputs": [
    {
     "name": "stderr",
     "output_type": "stream",
     "text": [
      "2024-09-27 23:09:30.293 Thread 'MainThread': missing ScriptRunContext! This warning can be ignored when running in bare mode.\n",
      "2024-09-27 23:09:30.295 Thread 'MainThread': missing ScriptRunContext! This warning can be ignored when running in bare mode.\n",
      "2024-09-27 23:09:30.298 Thread 'MainThread': missing ScriptRunContext! This warning can be ignored when running in bare mode.\n",
      "2024-09-27 23:09:30.301 Thread 'MainThread': missing ScriptRunContext! This warning can be ignored when running in bare mode.\n",
      "2024-09-27 23:09:30.324 Thread 'MainThread': missing ScriptRunContext! This warning can be ignored when running in bare mode.\n",
      "2024-09-27 23:09:30.327 Thread 'MainThread': missing ScriptRunContext! This warning can be ignored when running in bare mode.\n",
      "2024-09-27 23:09:30.491 Thread 'MainThread': missing ScriptRunContext! This warning can be ignored when running in bare mode.\n",
      "2024-09-27 23:09:30.495 Thread 'MainThread': missing ScriptRunContext! This warning can be ignored when running in bare mode.\n",
      "2024-09-27 23:09:30.504 Thread 'MainThread': missing ScriptRunContext! This warning can be ignored when running in bare mode.\n",
      "2024-09-27 23:09:33.127 Thread 'MainThread': missing ScriptRunContext! This warning can be ignored when running in bare mode.\n",
      "2024-09-27 23:09:33.130 Thread 'MainThread': missing ScriptRunContext! This warning can be ignored when running in bare mode.\n"
     ]
    }
   ],
   "source": [
    "import streamlit as st\n",
    "import pandas as pd\n",
    "import plotly.express as px\n",
    "\n",
    "# Load the dataset\n",
    "df_us_cars = pd.read_csv('../vehicles_us.csv')\n",
    "\n",
    "# Check missing values\n",
    "missing_values = df_us_cars.isnull().sum()\n",
    "st.write(\"Missing values in each column:\", missing_values)\n",
    "\n",
    "# Convert 'price' and 'odometer' to numeric if needed\n",
    "df_us_cars['price'] = pd.to_numeric(df_us_cars['price'], errors='coerce')\n",
    "df_us_cars['odometer'] = pd.to_numeric(df_us_cars['odometer'], errors='coerce')\n",
    "\n",
    "df_us_cars = df_us_cars.fillna({'price': 0, 'model': 'Unknown', 'model_year': 0})\n",
    "\n",
    "# Convert 'year' to integer\n",
    "df_us_cars['model_year'] = df_us_cars['model_year'].astype(int)\n",
    "\n",
    "\n",
    "# Visualize outliers in 'price' using Plotly\n",
    "fig = px.box(df_us_cars, y='price', title='Price Distribution')\n",
    "st.plotly_chart(fig)\n",
    "\n",
    "# Assume the 'model' column has both make and model (e.g., 'Ford F-150')\n",
    "df_us_cars[['make', 'model']] = df_us_cars['model'].str.split(' ', n=1, expand=True)\n",
    "st.write(df_us_cars[['make', 'model']].head())\n",
    "\n"
   ]
  },
  {
   "cell_type": "code",
   "execution_count": null,
   "metadata": {},
   "outputs": [],
   "source": [
    "# Display basic information\n",
    "st.write(df_us_cars.info())\n",
    "st.write(df_us_cars.head())"
   ]
  },
  {
   "cell_type": "code",
   "execution_count": null,
   "metadata": {},
   "outputs": [],
   "source": []
  },
  {
   "cell_type": "code",
   "execution_count": null,
   "metadata": {},
   "outputs": [],
   "source": []
  }
 ],
 "metadata": {
  "kernelspec": {
   "display_name": "Python 3",
   "language": "python",
   "name": "python3"
  },
  "language_info": {
   "codemirror_mode": {
    "name": "ipython",
    "version": 3
   },
   "file_extension": ".py",
   "mimetype": "text/x-python",
   "name": "python",
   "nbconvert_exporter": "python",
   "pygments_lexer": "ipython3",
   "version": "3.12.6"
  }
 },
 "nbformat": 4,
 "nbformat_minor": 2
}
